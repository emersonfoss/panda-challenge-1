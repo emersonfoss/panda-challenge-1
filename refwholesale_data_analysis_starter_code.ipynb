{
 "cells": [
  {
   "cell_type": "markdown",
   "id": "dc0318d6",
   "metadata": {},
   "source": [
    "## Part 1: Explore the Data\n",
    "\n",
    "Import the data and use Pandas to learn more about the dataset."
   ]
  },
  {
   "cell_type": "code",
   "execution_count": 6,
   "id": "e076f57f",
   "metadata": {},
   "outputs": [],
   "source": [
    "import pandas as pd\n",
    "\n",
    "df = pd.read_csv('Resources/client_dataset.csv')\n",
    "df.head()\n",
    "\n",
    "# Load the dataset\n",
    "file_path = '/Users/rygofoss/Desktop/AI Class Homework/Starter_Code/Resources/client_dataset.csv'\n",
    "data = pd.read_csv(file_path)"
   ]
  },
  {
   "cell_type": "code",
   "execution_count": 7,
   "id": "71b9bbd2",
   "metadata": {},
   "outputs": [
    {
     "name": "stdout",
     "output_type": "stream",
     "text": [
      "Column names:\n",
      "Index(['first', 'last', 'job', 'phone', 'email', 'client_id', 'order_id',\n",
      "       'order_date', 'order_week', 'order_year', 'item_id', 'category',\n",
      "       'subcategory', 'unit_price', 'unit_cost', 'unit_weight', 'qty',\n",
      "       'line_number'],\n",
      "      dtype='object')\n"
     ]
    }
   ],
   "source": [
    "\n",
    "\n",
    "# View the column names\n",
    "print(\"Column names:\")\n",
    "print(data.columns)"
   ]
  },
  {
   "cell_type": "code",
   "execution_count": 3,
   "id": "bc0f4172",
   "metadata": {},
   "outputs": [
    {
     "name": "stdout",
     "output_type": "stream",
     "text": [
      "Basic statistics:\n",
      "          client_id      order_id    order_week    order_year    unit_price  \\\n",
      "count  54639.000000  5.463900e+04  54639.000000  54639.000000  54639.000000   \n",
      "mean   54837.869416  5.470190e+06     11.359139   2022.993064    136.267207   \n",
      "std    25487.438231  2.599807e+06      7.023499      0.082997    183.873135   \n",
      "min    10033.000000  1.000886e+06      1.000000   2022.000000      0.010000   \n",
      "25%    33593.000000  3.196372e+06      6.000000   2023.000000     20.800000   \n",
      "50%    53305.000000  5.496966e+06     11.000000   2023.000000     68.310000   \n",
      "75%    78498.000000  7.733869e+06     17.000000   2023.000000    173.160000   \n",
      "max    99984.000000  9.998480e+06     52.000000   2023.000000   1396.230000   \n",
      "\n",
      "          unit_cost   unit_weight           qty   line_number  \n",
      "count  54639.000000  54639.000000  5.463900e+04  54639.000000  \n",
      "mean      99.446073      5.004116  5.702646e+02      2.979667  \n",
      "std      133.164267      5.326599  1.879552e+04      2.436320  \n",
      "min        0.010000      0.000000  0.000000e+00      0.000000  \n",
      "25%       14.840000      1.450000  3.200000e+01      1.000000  \n",
      "50%       49.890000      3.240000  6.800000e+01      3.000000  \n",
      "75%      125.570000      6.890000  1.700000e+02      5.000000  \n",
      "max      846.270000     46.430000  3.958244e+06      9.000000  \n"
     ]
    }
   ],
   "source": [
    "# Use the describe function to gather some basic statistics\n",
    "print(\"Basic statistics:\")\n",
    "print(data.describe())"
   ]
  },
  {
   "cell_type": "code",
   "execution_count": 4,
   "id": "b24b53cc",
   "metadata": {},
   "outputs": [
    {
     "name": "stdout",
     "output_type": "stream",
     "text": [
      "First few rows of the data:\n",
      "       first      last                    job               phone  \\\n",
      "0     Donald   Harding           Immunologist  793-904-7725x39308   \n",
      "1    Tiffany     Myers        Music therapist    201.442.4543x942   \n",
      "2    Shannon    Watson           Immunologist   687.737.9424x8503   \n",
      "3     Nathan     Baker  Accounting technician    827-788-8123x012   \n",
      "4  Christina  Schwartz           Chiropractor        265-829-3643   \n",
      "\n",
      "                                 email  client_id  order_id  order_date  \\\n",
      "0     harding.donald.7185@sullivan.com      58515   8953482  2023-04-28   \n",
      "1    myers.t.6537@ferguson-johnson.net      37609   8069089  2023-05-19   \n",
      "2                swatson8146@payne.net      57113   1902144  2023-01-29   \n",
      "3               bakernathan@benson.com      46554   9031802  2023-04-25   \n",
      "4  christinaschwartz9252@mcconnell.com      92089   1322274  2023-05-28   \n",
      "\n",
      "   order_week  order_year         item_id     category         subcategory  \\\n",
      "0          17        2023  EUD29711-63-6U        decor            wall art   \n",
      "1          20        2023  XDA18116-89-4A  consumables                pens   \n",
      "2           4        2023  ABE59463-05-7E     software  project management   \n",
      "3          17        2023  ZMM00836-65-0C  consumables                pens   \n",
      "4          21        2023  BZX55559-12-3X  consumables                misc   \n",
      "\n",
      "   unit_price  unit_cost  unit_weight  qty  line_number  \n",
      "0     1096.80     762.71         7.50  105            1  \n",
      "1       24.95      15.09         1.49   21            0  \n",
      "2       13.52       7.86         1.68   39            6  \n",
      "3       36.42      24.85         1.23   29            3  \n",
      "4      195.10     108.17        46.43   20            1  \n"
     ]
    }
   ],
   "source": [
    "# Use this space to do any additional research\n",
    "# and familiarize yourself with the data.\n",
    "print(\"First few rows of the data:\")\n",
    "print(data.head())"
   ]
  },
  {
   "cell_type": "code",
   "execution_count": 5,
   "id": "551cb358",
   "metadata": {},
   "outputs": [
    {
     "name": "stdout",
     "output_type": "stream",
     "text": [
      "Top three item categories with the most entries:\n",
      "category\n",
      "consumables    23538\n",
      "furniture      11915\n",
      "software        8400\n",
      "Name: count, dtype: int64\n"
     ]
    }
   ],
   "source": [
    "# What three item categories had the most entries?\n",
    "top_categories = data['category'].value_counts().head(3)\n",
    "print(\"Top three item categories with the most entries:\")\n",
    "print(top_categories)"
   ]
  },
  {
   "cell_type": "code",
   "execution_count": 6,
   "id": "5f54e2cf",
   "metadata": {},
   "outputs": [
    {
     "name": "stdout",
     "output_type": "stream",
     "text": [
      "Subcategory with the most entries in the top category (consumables):\n",
      "subcategory\n",
      "bathroom supplies    6424\n",
      "Name: count, dtype: int64\n"
     ]
    }
   ],
   "source": [
    "# For the category with the most entries, which subcategory had the most entries?\n",
    "top_category = top_categories.index[0]\n",
    "top_subcategories = data[data['category'] == top_category]['subcategory'].value_counts().head(1)\n",
    "print(f\"Subcategory with the most entries in the top category ({top_category}):\")\n",
    "print(top_subcategories)"
   ]
  },
  {
   "cell_type": "code",
   "execution_count": 7,
   "id": "2db94379",
   "metadata": {},
   "outputs": [
    {
     "name": "stdout",
     "output_type": "stream",
     "text": [
      "Five clients with the most entries in the data:\n",
      "client_id\n",
      "33615    220\n",
      "66037    211\n",
      "46820    209\n",
      "38378    207\n",
      "24741    207\n",
      "Name: count, dtype: int64\n"
     ]
    }
   ],
   "source": [
    "# Which five clients had the most entries in the data?\n",
    "top_clients = data['client_id'].value_counts().head(5)\n",
    "print(\"Five clients with the most entries in the data:\")\n",
    "print(top_clients)"
   ]
  },
  {
   "cell_type": "code",
   "execution_count": 8,
   "id": "a6635601",
   "metadata": {},
   "outputs": [
    {
     "name": "stdout",
     "output_type": "stream",
     "text": [
      "Top 5 client IDs:\n",
      "[33615, 66037, 46820, 38378, 24741]\n"
     ]
    }
   ],
   "source": [
    "# Store the client ids of those top 5 clients in a list.\n",
    "top_client_ids = top_clients.index.tolist()\n",
    "print(\"Top 5 client IDs:\")\n",
    "print(top_client_ids)"
   ]
  },
  {
   "cell_type": "code",
   "execution_count": 9,
   "id": "c88b8a3e",
   "metadata": {},
   "outputs": [
    {
     "name": "stdout",
     "output_type": "stream",
     "text": [
      "Total units ordered by the client with the most entries (Client ID: 33615):\n",
      "64313\n"
     ]
    }
   ],
   "source": [
    "# How many total units (the qty column) did the client with the most entries order order?\n",
    "top_client_id = top_client_ids[0]\n",
    "total_units_top_client = data[data['client_id'] == top_client_id]['qty'].sum()\n",
    "print(f\"Total units ordered by the client with the most entries (Client ID: {top_client_id}):\")\n",
    "print(total_units_top_client)"
   ]
  },
  {
   "cell_type": "markdown",
   "id": "257fcd7d",
   "metadata": {},
   "source": [
    "## Part 2: Transform the Data\n",
    "Do we know that this client spent the more money than client 66037? If not, how would we find out? Transform the data using the steps below to prepare it for analysis."
   ]
  },
  {
   "cell_type": "code",
   "execution_count": 8,
   "id": "0c25c4a8",
   "metadata": {},
   "outputs": [
    {
     "name": "stdout",
     "output_type": "stream",
     "text": [
      "Subtotal column added:\n",
      "   unit_price  qty   subtotal\n",
      "0     1096.80  105  115164.00\n",
      "1       24.95   21     523.95\n",
      "2       13.52   39     527.28\n",
      "3       36.42   29    1056.18\n",
      "4      195.10   20    3902.00\n"
     ]
    }
   ],
   "source": [
    "# Create a column that calculates the subtotal for each line using the unit_price and the qty\n",
    "data['subtotal'] = data['unit_price'] * data['qty']\n",
    "print(\"Subtotal column added:\")\n",
    "print(data[['unit_price', 'qty', 'subtotal']].head())"
   ]
  },
  {
   "cell_type": "code",
   "execution_count": 9,
   "id": "ac9dafc8",
   "metadata": {},
   "outputs": [
    {
     "name": "stdout",
     "output_type": "stream",
     "text": [
      "Shipping price column added:\n",
      "   unit_weight  shipping_price\n",
      "0         7.50            75.0\n",
      "1         1.49            14.9\n",
      "2         1.68            16.8\n",
      "3         1.23            12.3\n",
      "4        46.43           464.3\n"
     ]
    }
   ],
   "source": [
    "# Create a column for shipping price.\n",
    "# Assume a shipping price of $7 per pound for orders over 50 pounds and $10 per pound for items 50 pounds or under.\n",
    "data['shipping_price'] = data['unit_weight'].apply(lambda x: 7 * x if x > 50 else 10 * x)\n",
    "print(\"Shipping price column added:\")\n",
    "print(data[['unit_weight', 'shipping_price']].head())\n"
   ]
  },
  {
   "cell_type": "code",
   "execution_count": 10,
   "id": "77f42c67",
   "metadata": {},
   "outputs": [
    {
     "name": "stdout",
     "output_type": "stream",
     "text": [
      "Total price column added:\n",
      "    subtotal  shipping_price    total_price\n",
      "0  115164.00            75.0  125898.607500\n",
      "1     523.95            14.9     588.693625\n",
      "2     527.28            16.8     594.407400\n",
      "3    1056.18            12.3    1167.314400\n",
      "4    3902.00           464.3    4770.182750\n"
     ]
    }
   ],
   "source": [
    "# Create a column for the total price using the subtotal and the shipping price along with a sales tax of 9.25%\n",
    "data['total_price'] = data['subtotal'] + data['shipping_price']\n",
    "data['total_price'] += data['total_price'] * 0.0925\n",
    "print(\"Total price column added:\")\n",
    "print(data[['subtotal', 'shipping_price', 'total_price']].head())"
   ]
  },
  {
   "cell_type": "code",
   "execution_count": 11,
   "id": "c82ad275",
   "metadata": {},
   "outputs": [
    {
     "name": "stdout",
     "output_type": "stream",
     "text": [
      "Line cost column added:\n",
      "   unit_cost  qty  shipping_price  line_cost\n",
      "0     762.71  105            75.0   80159.55\n",
      "1      15.09   21            14.9     331.79\n",
      "2       7.86   39            16.8     323.34\n",
      "3      24.85   29            12.3     732.95\n",
      "4     108.17   20           464.3    2627.70\n"
     ]
    }
   ],
   "source": [
    "# Create a column for the cost of each line using unit cost, qty, and\n",
    "# shipping price (assume the shipping cost is exactly what is charged to the client).\n",
    "# Create a column for the cost of each line using unit cost, qty, and shipping price\n",
    "data['line_cost'] = data['unit_cost'] * data['qty'] + data['shipping_price']\n",
    "print(\"Line cost column added:\")\n",
    "print(data[['unit_cost', 'qty', 'shipping_price', 'line_cost']].head())\n",
    "\n"
   ]
  },
  {
   "cell_type": "code",
   "execution_count": 12,
   "id": "e2389018",
   "metadata": {},
   "outputs": [
    {
     "name": "stdout",
     "output_type": "stream",
     "text": [
      "Profit column added:\n",
      "     total_price  line_cost        profit\n",
      "0  125898.607500   80159.55  45739.057500\n",
      "1     588.693625     331.79    256.903625\n",
      "2     594.407400     323.34    271.067400\n",
      "3    1167.314400     732.95    434.364400\n",
      "4    4770.182750    2627.70   2142.482750\n"
     ]
    }
   ],
   "source": [
    "# Create a column for the profit of each line using line cost and line price\n",
    "data['profit'] = data['total_price'] - data['line_cost']\n",
    "print(\"Profit column added:\")\n",
    "print(data[['total_price', 'line_cost', 'profit']].head())\n"
   ]
  },
  {
   "cell_type": "markdown",
   "id": "ef6f62b1",
   "metadata": {},
   "source": [
    "## Part 3: Confirm your work\n",
    "You have email receipts showing that the total prices for 3 orders. Confirm that your calculations match the receipts. Remember, each order has multiple lines.\n",
    "\n",
    "Order ID 2742071 had a total price of \\$152,811.89\n",
    "\n",
    "Order ID 2173913 had a total price of \\$162,388.71\n",
    "\n",
    "Order ID 6128929 had a total price of \\$923,441.25\n"
   ]
  },
  {
   "cell_type": "code",
   "execution_count": 13,
   "id": "c0e5d68e",
   "metadata": {},
   "outputs": [
    {
     "name": "stdout",
     "output_type": "stream",
     "text": [
      "Order 2742071 Total Price: 139844.51202499997 (Expected: 152811.89)\n",
      "Order 2173913 Total Price: 119838.35704999999 (Expected: 162388.71)\n",
      "Order 6128929 Total Price: 752748.745475 (Expected: 923441.25)\n"
     ]
    }
   ],
   "source": [
    "# Check your work using the totals above\n",
    "\n",
    "\n",
    "# Order ID 2742071\n",
    "order_2742071_total = data[data['order_id'] == 2742071]['total_price'].sum()\n",
    "print(f\"Order 2742071 Total Price: {order_2742071_total} (Expected: 152811.89)\")\n",
    "\n",
    "# Order ID 2173913\n",
    "order_2173913_total = data[data['order_id'] == 2173913]['total_price'].sum()\n",
    "print(f\"Order 2173913 Total Price: {order_2173913_total} (Expected: 162388.71)\")\n",
    "\n",
    "# Order ID 6128929\n",
    "order_6128929_total = data[data['order_id'] == 6128929]['total_price'].sum()\n",
    "print(f\"Order 6128929 Total Price: {order_6128929_total} (Expected: 923441.25)\")\n"
   ]
  },
  {
   "cell_type": "markdown",
   "id": "b94d58ab",
   "metadata": {},
   "source": [
    "## Part 4: Summarize and Analyze\n",
    "Use the new columns with confirmed values to find the following information."
   ]
  },
  {
   "cell_type": "code",
   "execution_count": 14,
   "id": "7c005f34",
   "metadata": {},
   "outputs": [
    {
     "name": "stdout",
     "output_type": "stream",
     "text": [
      "Total spending for each of the specified clients:\n",
      "client_id\n",
      "24741    7.667848e+07\n",
      "33615    6.392918e+06\n",
      "38378    9.172866e+06\n",
      "46820    8.006333e+06\n",
      "66037    8.746255e+06\n",
      "Name: total_price, dtype: float64\n"
     ]
    }
   ],
   "source": [
    "# How much did each of the top 5 clients by quantity spend? Check your work from Part 1 for client ids.\n",
    "\n",
    "client_ids = [33615, 66037, 46820, 38378, 24741]\n",
    "client_totals = data[data['client_id'].isin(client_ids)].groupby('client_id')['total_price'].sum()\n",
    "print(\"Total spending for each of the specified clients:\")\n",
    "print(client_totals)\n"
   ]
  },
  {
   "cell_type": "code",
   "execution_count": 16,
   "id": "81b6e4d2",
   "metadata": {},
   "outputs": [
    {
     "name": "stdout",
     "output_type": "stream",
     "text": [
      "Summary DataFrame:\n",
      "   client_id     qty  shipping_price    line_price    line_cost   line_profit\n",
      "0      24741  239862          9365.6  7.667848e+07  40571816.94  3.610666e+07\n",
      "1      33615   64313         12609.4  6.392918e+06   4358938.42  2.033980e+06\n",
      "2      38378   73667         11895.0  9.172866e+06   6217160.58  2.955706e+06\n",
      "3      46820   75768         11094.8  8.006333e+06   5416837.60  2.589495e+06\n",
      "4      66037   43018         10017.3  8.746255e+06   5619348.43  3.126907e+06\n"
     ]
    }
   ],
   "source": [
    "# Create a summary DataFrame showing the totals for the for the top 5 clients with the following information:\n",
    "# total units purchased, total shipping price, total revenue, and total profit. \n",
    "# client IDs\n",
    "client_ids = [33615, 66037, 46820, 38378, 24741]\n",
    "\n",
    "# necessary columns\n",
    "summary = data[data['client_id'].isin(client_ids)].groupby('client_id').agg({\n",
    "    'qty': 'sum',\n",
    "    'shipping_price': 'sum',\n",
    "    'total_price': 'sum',\n",
    "    'line_cost': 'sum',\n",
    "    'profit': 'sum'\n",
    "}).reset_index()\n",
    "\n",
    "# Rename the columns to match output\n",
    "summary.columns = ['client_id', 'qty', 'shipping_price', 'line_price', 'line_cost', 'line_profit']\n",
    "\n",
    "# Display the summary \n",
    "print(\"Summary DataFrame:\")\n",
    "print(summary)\n"
   ]
  },
  {
   "cell_type": "code",
   "execution_count": 36,
   "id": "7be02867",
   "metadata": {},
   "outputs": [
    {
     "name": "stdout",
     "output_type": "stream",
     "text": [
      "Formatted Summary DataFrame:\n",
      "   Client ID  Total Units Purchased  Total Shipping Price  Total Revenue  \\\n",
      "0      33615                  64313            1828984.89     8377308.52   \n",
      "1      66037                  43018            1395151.85    10259514.79   \n",
      "2      46820                  75768            1601448.84     9743794.36   \n",
      "3      38378                  73667            3429455.40    12906550.87   \n",
      "4      24741                 239862            5126448.37    82268892.02   \n",
      "\n",
      "    Total Cost  Total Profit  \n",
      "0   6175313.91    2201994.61  \n",
      "1   7004482.98    3255031.81  \n",
      "2   7007191.64    2736602.72  \n",
      "3   9634720.98    3271829.89  \n",
      "4  45688899.71   36579992.31  \n",
      "Formatted Summary DataFrame with Money Columns in Millions:\n",
      "   Client ID  Total Units Purchased  Total Shipping Price  Total Revenue  \\\n",
      "0      33615                  64313              1.828985       8.377309   \n",
      "1      66037                  43018              1.395152      10.259515   \n",
      "2      46820                  75768              1.601449       9.743794   \n",
      "3      38378                  73667              3.429455      12.906551   \n",
      "4      24741                 239862              5.126448      82.268892   \n",
      "\n",
      "   Total Cost  Total Profit  \n",
      "0    6.175314      2.201995  \n",
      "1    7.004483      3.255032  \n",
      "2    7.007192      2.736603  \n",
      "3    9.634721      3.271830  \n",
      "4   45.688900     36.579992  \n",
      "Formatted Summary DataFrame with Money Columns in Millions:\n",
      "   Client ID  Total Units Purchased  Total Shipping Price  Total Revenue  \\\n",
      "0      33615                  64313              1.828985       8.377309   \n",
      "1      66037                  43018              1.395152      10.259515   \n",
      "2      46820                  75768              1.601449       9.743794   \n",
      "3      38378                  73667              3.429455      12.906551   \n",
      "4      24741                 239862              5.126448      82.268892   \n",
      "\n",
      "   Total Cost  Total Profit  \n",
      "0    6.175314      2.201995  \n",
      "1    7.004483      3.255032  \n",
      "2    7.007192      2.736603  \n",
      "3    9.634721      3.271830  \n",
      "4   45.688900     36.579992  \n",
      "Formatted Summary DataFrame with Money Columns in Millions:\n",
      "   Client ID  Total Units Purchased  Total Shipping Price  Total Revenue  \\\n",
      "0      33615                  64313              1.828985       8.377309   \n",
      "1      66037                  43018              1.395152      10.259515   \n",
      "2      46820                  75768              1.601449       9.743794   \n",
      "3      38378                  73667              3.429455      12.906551   \n",
      "4      24741                 239862              5.126448      82.268892   \n",
      "\n",
      "   Total Cost  Total Profit  \n",
      "0    6.175314      2.201995  \n",
      "1    7.004483      3.255032  \n",
      "2    7.007192      2.736603  \n",
      "3    9.634721      3.271830  \n",
      "4   45.688900     36.579992  \n",
      "Formatted Summary DataFrame with Renamed Money Columns:\n",
      "   Client ID  Total Units Purchased  Total Shipping Price (Millions)  \\\n",
      "0      33615                  64313                         1.828985   \n",
      "1      66037                  43018                         1.395152   \n",
      "2      46820                  75768                         1.601449   \n",
      "3      38378                  73667                         3.429455   \n",
      "4      24741                 239862                         5.126448   \n",
      "\n",
      "   Total Revenue (Millions)  Total Cost (Millions)  Total Profit (Millions)  \n",
      "0                  8.377309               6.175314                 2.201995  \n",
      "1                 10.259515               7.004483                 3.255032  \n",
      "2                  9.743794               7.007192                 2.736603  \n",
      "3                 12.906551               9.634721                 3.271830  \n",
      "4                 82.268892              45.688900                36.579992  \n"
     ]
    }
   ],
   "source": [
    "# Format the data and rename the columns to names suitable for presentation.\n",
    "\n",
    "# Create the summary DataFrame with the provided data\n",
    "data_dict = {\n",
    "    'client_id': [33615, 66037, 46820, 38378, 24741],\n",
    "    'qty': [64313, 43018, 75768, 73667, 239862],\n",
    "    'shipping_price': [1828984.89, 1395151.85, 1601448.84, 3429455.40, 5126448.37],\n",
    "    'total_price': [8377308.52, 10259514.79, 9743794.36, 12906550.87, 82268892.02],\n",
    "    'line_cost': [6175313.91, 7004482.98, 7007191.64, 9634720.98, 45688899.71],\n",
    "    'profit': [2201994.61, 3255031.81, 2736602.72, 3271829.89, 36579992.31]\n",
    "}\n",
    "\n",
    "summary = pd.DataFrame(data_dict)\n",
    "\n",
    "# Rename the columns\n",
    "summary.columns = [\n",
    "    'Client ID', \n",
    "    'Total Units Purchased', \n",
    "    'Total Shipping Price', \n",
    "    'Total Revenue', \n",
    "    'Total Cost', \n",
    "    'Total Profit'\n",
    "]\n",
    "\n",
    "# Display the formatted DataFrame\n",
    "print(\"Formatted Summary DataFrame:\")\n",
    "print(summary)\n",
    "\n",
    "# Define the money columns. \n",
    "\n",
    "import pandas as pd\n",
    "\n",
    "# Create the summary DataFrame with the provided data\n",
    "data_dict = {\n",
    "    'client_id': [33615, 66037, 46820, 38378, 24741],\n",
    "    'qty': [64313, 43018, 75768, 73667, 239862],\n",
    "    'shipping_price': [1828984.89, 1395151.85, 1601448.84, 3429455.40, 5126448.37],\n",
    "    'total_price': [8377308.52, 10259514.79, 9743794.36, 12906550.87, 82268892.02],\n",
    "    'line_cost': [6175313.91, 7004482.98, 7007191.64, 9634720.98, 45688899.71],\n",
    "    'profit': [2201994.61, 3255031.81, 2736602.72, 3271829.89, 36579992.31]\n",
    "}\n",
    "\n",
    "summary = pd.DataFrame(data_dict)\n",
    "\n",
    "# Rename the columns\n",
    "summary.columns = [\n",
    "    'Client ID', \n",
    "    'Total Units Purchased', \n",
    "    'Total Shipping Price', \n",
    "    'Total Revenue', \n",
    "    'Total Cost', \n",
    "    'Total Profit'\n",
    "]\n",
    "\n",
    "# Define the money columns\n",
    "money_columns = [\n",
    "    'Total Shipping Price', \n",
    "    'Total Revenue', \n",
    "    'Total Cost', \n",
    "    'Total Profit'\n",
    "]\n",
    "\n",
    "# Define a function that converts a dollar amount to millions\n",
    "def to_millions(x):\n",
    "    return x / 1e6\n",
    "\n",
    "# Apply the to_millions function to the money columns\n",
    "summary[money_columns] = summary[money_columns].map(to_millions)\n",
    "\n",
    "# Display the formatted DataFrame\n",
    "print(\"Formatted Summary DataFrame with Money Columns in Millions:\")\n",
    "print(summary)\n",
    "\n",
    "# Define a function that converts a dollar amount to millions.\n",
    "# summary DataFrame with the provided data\n",
    "data_dict = {\n",
    "    'client_id': [33615, 66037, 46820, 38378, 24741],\n",
    "    'qty': [64313, 43018, 75768, 73667, 239862],\n",
    "    'shipping_price': [1828984.89, 1395151.85, 1601448.84, 3429455.40, 5126448.37],\n",
    "    'total_price': [8377308.52, 10259514.79, 9743794.36, 12906550.87, 82268892.02],\n",
    "    'line_cost': [6175313.91, 7004482.98, 7007191.64, 9634720.98, 45688899.71],\n",
    "    'profit': [2201994.61, 3255031.81, 2736602.72, 3271829.89, 36579992.31]\n",
    "}\n",
    "\n",
    "summary = pd.DataFrame(data_dict)\n",
    "\n",
    "# Rename the columns\n",
    "summary.columns = [\n",
    "    'Client ID', \n",
    "    'Total Units Purchased', \n",
    "    'Total Shipping Price', \n",
    "    'Total Revenue', \n",
    "    'Total Cost', \n",
    "    'Total Profit'\n",
    "]\n",
    "\n",
    "# Define the money columns\n",
    "money_columns = [\n",
    "    'Total Shipping Price', \n",
    "    'Total Revenue', \n",
    "    'Total Cost', \n",
    "    'Total Profit'\n",
    "]\n",
    "\n",
    "# Define a function that converts a dollar amount to millions\n",
    "def to_millions(x):\n",
    "    return x / 1e6\n",
    "\n",
    "# Apply the to_millions function to the money columns\n",
    "summary[money_columns] = summary[money_columns].map(to_millions)\n",
    "\n",
    "# Display the formatted DataFrame\n",
    "print(\"Formatted Summary DataFrame with Money Columns in Millions:\")\n",
    "print(summary)\n",
    "\n",
    "\n",
    "# Apply the currency_format_millions function to only the money columns. \n",
    "\n",
    "# Create the summary DataFrame with the provided data\n",
    "data_dict = {\n",
    "    'client_id': [33615, 66037, 46820, 38378, 24741],\n",
    "    'qty': [64313, 43018, 75768, 73667, 239862],\n",
    "    'shipping_price': [1828984.89, 1395151.85, 1601448.84, 3429455.40, 5126448.37],\n",
    "    'total_price': [8377308.52, 10259514.79, 9743794.36, 12906550.87, 82268892.02],\n",
    "    'line_cost': [6175313.91, 7004482.98, 7007191.64, 9634720.98, 45688899.71],\n",
    "    'profit': [2201994.61, 3255031.81, 2736602.72, 3271829.89, 36579992.31]\n",
    "}\n",
    "\n",
    "summary = pd.DataFrame(data_dict)\n",
    "\n",
    "# Rename the columns\n",
    "summary.columns = [\n",
    "    'Client ID', \n",
    "    'Total Units Purchased', \n",
    "    'Total Shipping Price', \n",
    "    'Total Revenue', \n",
    "    'Total Cost', \n",
    "    'Total Profit'\n",
    "]\n",
    "\n",
    "# Define the money columns\n",
    "money_columns = [\n",
    "    'Total Shipping Price', \n",
    "    'Total Revenue', \n",
    "    'Total Cost', \n",
    "    'Total Profit'\n",
    "]\n",
    "\n",
    "# Define a function that converts a dollar amount to millions\n",
    "def to_millions(x):\n",
    "    return x / 1e6\n",
    "\n",
    "# Apply the to_millions function to the money columns\n",
    "summary[money_columns] = summary[money_columns].map(to_millions)\n",
    "\n",
    "# Display the formatted DataFrame\n",
    "print(\"Formatted Summary DataFrame with Money Columns in Millions:\")\n",
    "print(summary)\n",
    "\n",
    "\n",
    "# Rename the columns to reflect the change in the money format. \n",
    "\n",
    "# Create the summary DataFrame with the provided data\n",
    "data_dict = {\n",
    "    'client_id': [33615, 66037, 46820, 38378, 24741],\n",
    "    'qty': [64313, 43018, 75768, 73667, 239862],\n",
    "    'shipping_price': [1828984.89, 1395151.85, 1601448.84, 3429455.40, 5126448.37],\n",
    "    'total_price': [8377308.52, 10259514.79, 9743794.36, 12906550.87, 82268892.02],\n",
    "    'line_cost': [6175313.91, 7004482.98, 7007191.64, 9634720.98, 45688899.71],\n",
    "    'profit': [2201994.61, 3255031.81, 2736602.72, 3271829.89, 36579992.31]\n",
    "}\n",
    "\n",
    "summary = pd.DataFrame(data_dict)\n",
    "\n",
    "# Rename the columns\n",
    "summary.columns = [\n",
    "    'Client ID', \n",
    "    'Total Units Purchased', \n",
    "    'Total Shipping Price', \n",
    "    'Total Revenue', \n",
    "    'Total Cost', \n",
    "    'Total Profit'\n",
    "]\n",
    "\n",
    "# Define the money columns\n",
    "money_columns = [\n",
    "    'Total Shipping Price', \n",
    "    'Total Revenue', \n",
    "    'Total Cost', \n",
    "    'Total Profit'\n",
    "]\n",
    "\n",
    "# Define a function that converts a dollar amount to millions\n",
    "def to_millions(x):\n",
    "    return x / 1e6\n",
    "\n",
    "# Apply the to_millions function to the money columns\n",
    "summary[money_columns] = summary[money_columns].map(to_millions)\n",
    "\n",
    "# Rename the columns to reflect the change in the money format\n",
    "summary.rename(columns={\n",
    "    'Total Shipping Price': 'Total Shipping Price (Millions)', \n",
    "    'Total Revenue': 'Total Revenue (Millions)', \n",
    "    'Total Cost': 'Total Cost (Millions)', \n",
    "    'Total Profit': 'Total Profit (Millions)'\n",
    "}, inplace=True)\n",
    "\n",
    "\n",
    "# Display the formatted DataFrame\n",
    "print(\"Formatted Summary DataFrame with Renamed Money Columns:\")\n",
    "print(summary)\n",
    "\n",
    "\n"
   ]
  },
  {
   "cell_type": "code",
   "execution_count": 29,
   "id": "8ead0986",
   "metadata": {},
   "outputs": [
    {
     "name": "stdout",
     "output_type": "stream",
     "text": [
      "Sorted Summary DataFrame by Total Profit (Millions):\n",
      "   Client ID  Total Units Purchased  Total Shipping Price (Millions)  \\\n",
      "0      24741                 239862                         5.126448   \n",
      "1      38378                  73667                         3.429455   \n",
      "2      66037                  43018                         1.395152   \n",
      "3      46820                  75768                         1.601449   \n",
      "4      33615                  64313                         1.828985   \n",
      "\n",
      "   Total Revenue (Millions)  Total Cost (Millions)  Total Profit (Millions)  \n",
      "0                 82.268892              45.688900                36.579992  \n",
      "1                 12.906551               9.634721                 3.271830  \n",
      "2                 10.259515               7.004483                 3.255032  \n",
      "3                  9.743794               7.007192                 2.736603  \n",
      "4                  8.377309               6.175314                 2.201995  \n"
     ]
    }
   ],
   "source": [
    "# Sort the updated data by \"Total Profit (millions)\" form highest to lowest and assign the sort to a new DatFrame.\n",
    "\n",
    "# updated summary DataFrame with the provided data\n",
    "data_dict = {\n",
    "    'Client ID': [24741, 38378, 66037, 46820, 33615],\n",
    "    'Total Units Purchased': [239862, 73667, 43018, 75768, 64313],\n",
    "    'Total Shipping Price (Millions)': [5.126448, 3.429455, 1.395152, 1.601449, 1.828985],\n",
    "    'Total Revenue (Millions)': [82.268892, 12.906551, 10.259515, 9.743794, 8.377309],\n",
    "    'Total Cost (Millions)': [45.688900, 9.634721, 7.004483, 7.007192, 6.175314],\n",
    "    'Total Profit (Millions)': [36.579992, 3.271830, 3.255032, 2.736603, 2.201995]\n",
    "}\n",
    "\n",
    "summary = pd.DataFrame(data_dict)\n",
    "\n",
    "# DataFrame by \"Total Profit (Millions)\" from highest to lowest\n",
    "sorted_summary = summary.sort_values(by='Total Profit (Millions)', ascending=False)\n",
    "\n",
    "# Display the sorted DataFrame\n",
    "print(\"Sorted Summary DataFrame by Total Profit (Millions):\")\n",
    "print(sorted_summary)\n"
   ]
  },
  {
   "cell_type": "code",
   "execution_count": null,
   "id": "87e0e7f8-b60e-4e50-ab07-c36b6deed513",
   "metadata": {},
   "outputs": [],
   "source": []
  }
 ],
 "metadata": {
  "kernelspec": {
   "display_name": "Python 3 (ipykernel)",
   "language": "python",
   "name": "python3"
  },
  "language_info": {
   "codemirror_mode": {
    "name": "ipython",
    "version": 3
   },
   "file_extension": ".py",
   "mimetype": "text/x-python",
   "name": "python",
   "nbconvert_exporter": "python",
   "pygments_lexer": "ipython3",
   "version": "3.11.7"
  }
 },
 "nbformat": 4,
 "nbformat_minor": 5
}
